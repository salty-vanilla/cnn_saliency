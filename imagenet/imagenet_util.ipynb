{
 "cells": [
  {
   "cell_type": "code",
   "execution_count": 76,
   "metadata": {},
   "outputs": [],
   "source": [
    "import numpy as np\n",
    "import json\n",
    "import tensorflow as tf\n",
    "\n",
    "\n",
    "json_path = './imagenet_class_index.json'\n",
    "\n",
    "\n",
    "def get_index_from_id(ids):\n",
    "    f = open(json_path, 'r')\n",
    "    json_dict = json.load(f)\n",
    "    \n",
    "    indexes = []\n",
    "    for key, value in json_dict.items():\n",
    "        json_id = value[0]\n",
    "        if json_id in ids:\n",
    "            indexes.append(int(key))\n",
    "    return indexes\n",
    "\n",
    "\n",
    "def decode_predictions(preds, top=5):\n",
    "    _preds = np.array(preds)\n",
    "    if len(preds.shape) == 1:\n",
    "        _preds = np.expand_dims(_preds, axis=0)\n",
    "    _preds = tf.keras.applications.resnet50.decode_predictions(_preds, top)\n",
    "    ids = [p[0] for i in range(len(_preds)) for p in _preds[i]]\n",
    "    ids = list(zip(*[iter(ids)]*top))\n",
    "    indexes =[get_index_from_id(_ids) for _ids in ids]\n",
    "    \n",
    "    outputs = []\n",
    "    for j in range(len(_preds)):\n",
    "        o = []\n",
    "        for i in range(top):\n",
    "            o.append(tuple(list(_preds[j][i]) + [indexes[j][i]]))\n",
    "        outputs.append(o)\n",
    "    return outputs\n",
    "    "
   ]
  },
  {
   "cell_type": "code",
   "execution_count": 77,
   "metadata": {},
   "outputs": [
    {
     "data": {
      "text/plain": [
       "[[('n02410509', 'bison', 0.09995932808553398, 26),\n",
       "  ('n02091244', 'Ibizan_hound', 0.09965925724266053, 173),\n",
       "  ('n04118538', 'rugby_ball', 0.09953803793499288, 347),\n",
       "  ('n01630670', 'common_newt', 0.09950721245010452, 768),\n",
       "  ('n04120489', 'running_shoe', 0.09936466167957858, 770)]]"
      ]
     },
     "execution_count": 77,
     "metadata": {},
     "output_type": "execute_result"
    }
   ],
   "source": [
    "decode_predictions(np.random.uniform(0, 0.1, size=(1, 1000)))"
   ]
  },
  {
   "cell_type": "code",
   "execution_count": null,
   "metadata": {},
   "outputs": [],
   "source": []
  }
 ],
 "metadata": {
  "kernelspec": {
   "display_name": "Python 3",
   "language": "python",
   "name": "python3"
  },
  "language_info": {
   "codemirror_mode": {
    "name": "ipython",
    "version": 3
   },
   "file_extension": ".py",
   "mimetype": "text/x-python",
   "name": "python",
   "nbconvert_exporter": "python",
   "pygments_lexer": "ipython3",
   "version": "3.6.3"
  }
 },
 "nbformat": 4,
 "nbformat_minor": 2
}
