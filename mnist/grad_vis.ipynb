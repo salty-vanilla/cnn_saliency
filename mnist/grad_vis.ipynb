{
 "cells": [
  {
   "cell_type": "code",
   "execution_count": 1,
   "metadata": {
    "scrolled": true
   },
   "outputs": [
    {
     "name": "stderr",
     "output_type": "stream",
     "text": [
      "/home/nakatsuka/anaconda3/envs/tf15/lib/python3.6/site-packages/h5py/__init__.py:34: FutureWarning: Conversion of the second argument of issubdtype from `float` to `np.floating` is deprecated. In future, it will be treated as `np.float64 == np.dtype(float).type`.\n",
      "  from ._conv import register_converters as _register_converters\n"
     ]
    }
   ],
   "source": [
    "from model import CNN\n",
    "from data_generator import DataGenerator\n",
    "import tensorflow as tf\n",
    "import matplotlib.pyplot as plt\n",
    "%matplotlib inline\n",
    "import numpy as np"
   ]
  },
  {
   "cell_type": "code",
   "execution_count": 2,
   "metadata": {
    "scrolled": true
   },
   "outputs": [
    {
     "name": "stdout",
     "output_type": "stream",
     "text": [
      "WARNING:tensorflow:From /home/nakatsuka/anaconda3/envs/tf15/lib/python3.6/site-packages/tensorflow/python/keras/_impl/keras/backend.py:1557: calling reduce_mean (from tensorflow.python.ops.math_ops) with keep_dims is deprecated and will be removed in a future version.\n",
      "Instructions for updating:\n",
      "keep_dims is deprecated, use keepdims instead\n",
      "WARNING:tensorflow:From /home/nakatsuka/anaconda3/envs/tf15/lib/python3.6/site-packages/tensorflow/python/keras/_impl/keras/backend.py:3086: calling reduce_sum (from tensorflow.python.ops.math_ops) with keep_dims is deprecated and will be removed in a future version.\n",
      "Instructions for updating:\n",
      "keep_dims is deprecated, use keepdims instead\n"
     ]
    }
   ],
   "source": [
    "model = CNN(input_shape=(28, 28, 1),\n",
    "            nb_classes=10)\n",
    "data_generator = DataGenerator(batch_size=64,\n",
    "                               is_training=True,\n",
    "                               flatten=False)"
   ]
  },
  {
   "cell_type": "code",
   "execution_count": 3,
   "metadata": {
    "scrolled": true
   },
   "outputs": [
    {
     "name": "stdout",
     "output_type": "stream",
     "text": [
      "\n",
      "epoch 1 / 10\n",
      "937/938  loss : 0.5807  acc : 0.8750\n",
      "epoch 2 / 10\n",
      "937/938  loss : 0.5715  acc : 0.7812\n",
      "epoch 3 / 10\n",
      "937/938  loss : 0.2982  acc : 0.9375\n",
      "epoch 4 / 10\n",
      "937/938  loss : 0.5883  acc : 0.7812\n",
      "epoch 5 / 10\n",
      "937/938  loss : 0.2913  acc : 0.9062\n",
      "epoch 6 / 10\n",
      "937/938  loss : 0.1182  acc : 0.9688\n",
      "epoch 7 / 10\n",
      "937/938  loss : 0.9025  acc : 0.7812\n",
      "epoch 8 / 10\n",
      "937/938  loss : 0.3536  acc : 0.9062\n",
      "epoch 9 / 10\n",
      "937/938  loss : 0.4836  acc : 0.8438\n",
      "epoch 10 / 10\n",
      "937/938  loss : 0.2814  acc : 0.9375\n",
      "Training is done ... \n"
     ]
    }
   ],
   "source": [
    "model.fit(data_generator, nb_epoch=10, model_dir='./model')"
   ]
  },
  {
   "cell_type": "code",
   "execution_count": 4,
   "metadata": {
    "collapsed": true,
    "scrolled": true
   },
   "outputs": [],
   "source": [
    "test_generator = DataGenerator(batch_size=64,\n",
    "                               is_training=False,\n",
    "                               flatten=False)"
   ]
  },
  {
   "cell_type": "code",
   "execution_count": 5,
   "metadata": {
    "scrolled": true
   },
   "outputs": [
    {
     "data": {
      "text/plain": [
       "0.941"
      ]
     },
     "execution_count": 5,
     "metadata": {},
     "output_type": "execute_result"
    }
   ],
   "source": [
    "model.evaluate_generator(test_generator)"
   ]
  },
  {
   "cell_type": "code",
   "execution_count": 6,
   "metadata": {
    "scrolled": true
   },
   "outputs": [
    {
     "data": {
      "text/plain": [
       "[<tf.Tensor 'gradients_1/conv2d/Conv2D_grad/Conv2DBackpropInput:0' shape=(?, 28, 28, 1) dtype=float32>]"
      ]
     },
     "execution_count": 6,
     "metadata": {},
     "output_type": "execute_result"
    }
   ],
   "source": [
    "tf.gradients(model.logit, model.input_)"
   ]
  },
  {
   "cell_type": "code",
   "execution_count": 7,
   "metadata": {
    "collapsed": true,
    "scrolled": true
   },
   "outputs": [],
   "source": [
    "x, y = next(test_generator())"
   ]
  },
  {
   "cell_type": "code",
   "execution_count": 8,
   "metadata": {
    "scrolled": true
   },
   "outputs": [
    {
     "data": {
      "text/plain": [
       "<matplotlib.image.AxesImage at 0x7fa8200666a0>"
      ]
     },
     "execution_count": 8,
     "metadata": {},
     "output_type": "execute_result"
    },
    {
     "data": {
      "image/png": "[encoded data removed]",
      "text/plain": [
       "<matplotlib.figure.Figure at 0x7fa8300706d8>"
      ]
     },
     "metadata": {},
     "output_type": "display_data"
    }
   ],
   "source": [
    "plt.imshow(x[0].reshape(28, 28))"
   ]
  },
  {
   "cell_type": "code",
   "execution_count": 19,
   "metadata": {
    "scrolled": false
   },
   "outputs": [
    {
     "data": {
      "text/plain": [
       "<matplotlib.image.AxesImage at 0x7fa799367a20>"
      ]
     },
     "execution_count": 19,
     "metadata": {},
     "output_type": "execute_result"
    },
    {
     "data": {
      "image/png": "[encoded data removed]",
      "text/plain": [
       "<matplotlib.figure.Figure at 0x7fa78f1ae390>"
      ]
     },
     "metadata": {},
     "output_type": "display_data"
    },
    {
     "data": {
      "image/png": "[encoded data removed]",
      "text/plain": [
       "<matplotlib.figure.Figure at 0x7fa78cf1e9e8>"
      ]
     },
     "metadata": {},
     "output_type": "display_data"
    }
   ],
   "source": [
    "# sampling one digit\n",
    "sampling_index = 10\n",
    "_x = x[sampling_index]\n",
    "_y = y[sampling_index]\n",
    "_x = np.expand_dims(_x, 0)\n",
    "_y = np.argmax(_y)\n",
    "plt.figure()\n",
    "plt.imshow(_x[0].reshape(28, 28))\n",
    "plt.colorbar()\n",
    "\n",
    "# calc gradients for output unit\n",
    "grad = tf.gradients(model.logit[:, _y], model.input_)[0]\n",
    "grads = model.sess.run(grad, \n",
    "                       feed_dict={model.input_: x})\n",
    "plt.figure()\n",
    "plt.subplot(131)\n",
    "plt.title('abs')\n",
    "plt.imshow(_x[0].reshape(28, 28), cmap='gray')\n",
    "plt.imshow(np.abs(grads[0].reshape(28, 28)),\n",
    "           cmap='jet', alpha=0.7, vmin=0., vmax=1.)\n",
    "plt.subplot(132)\n",
    "plt.title('positive')\n",
    "plt.imshow(_x[0].reshape(28, 28), cmap='gray')\n",
    "plt.imshow(np.maximum(0, grads[0].reshape(28, 28)), \n",
    "           cmap='jet', alpha=0.7, vmin=0., vmax=1.)\n",
    "plt.subplot(133)\n",
    "plt.title('negative')\n",
    "plt.imshow(_x[0].reshape(28, 28), cmap='gray')\n",
    "plt.imshow(-np.minimum(0, grads[0].reshape(28, 28)),\n",
    "           cmap='jet', alpha=0.7, vmin=0., vmax=1.)"
   ]
  },
  {
   "cell_type": "code",
   "execution_count": null,
   "metadata": {
    "collapsed": true
   },
   "outputs": [],
   "source": []
  }
 ],
 "metadata": {
  "kernelspec": {
   "display_name": "Python 3",
   "language": "python",
   "name": "python3"
  },
  "language_info": {
   "codemirror_mode": {
    "name": "ipython",
    "version": 3
   },
   "file_extension": ".py",
   "mimetype": "text/x-python",
   "name": "python",
   "nbconvert_exporter": "python",
   "pygments_lexer": "ipython3",
   "version": "3.6.1"
  }
 },
 "nbformat": 4,
 "nbformat_minor": 2
}
